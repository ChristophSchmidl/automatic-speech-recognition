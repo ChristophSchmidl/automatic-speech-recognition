{
 "cells": [
  {
   "cell_type": "markdown",
   "metadata": {},
   "source": [
    "# Language Models\n",
    "\n",
    "* https://machinelearningmastery.com/how-to-develop-a-word-level-neural-language-model-in-keras/\n",
    "* https://machinelearningmastery.com/develop-character-based-neural-language-model-keras/\n",
    "* https://machinelearningmastery.com/develop-word-based-neural-language-models-python-keras/\n",
    "* https://machinelearningmastery.com/statistical-language-modeling-and-neural-language-models/\n",
    "* https://machinelearningmastery.com/beam-search-decoder-natural-language-processing/\n",
    "* https://machinelearningmastery.com/datasets-natural-language-processing/\n",
    "* https://machinelearningmastery.com/applications-of-deep-learning-for-natural-language-processing/\n",
    "* https://machinelearningmastery.com/gentle-introduction-generative-long-short-term-memory-networks/\n",
    "* https://machinelearningmastery.com/cnn-long-short-term-memory-networks/\n",
    "* https://machinelearningmastery.com/attention-long-short-term-memory-recurrent-neural-networks/\n",
    "* https://machinelearningmastery.com/gentle-introduction-long-short-term-memory-networks-experts/\n",
    "* https://machinelearningmastery.com/crash-course-recurrent-neural-networks-deep-learning/"
   ]
  }
 ],
 "metadata": {
  "kernelspec": {
   "display_name": "Python 3",
   "language": "python",
   "name": "python3"
  },
  "language_info": {
   "codemirror_mode": {
    "name": "ipython",
    "version": 3
   },
   "file_extension": ".py",
   "mimetype": "text/x-python",
   "name": "python",
   "nbconvert_exporter": "python",
   "pygments_lexer": "ipython3",
   "version": "3.6.4"
  }
 },
 "nbformat": 4,
 "nbformat_minor": 2
}
