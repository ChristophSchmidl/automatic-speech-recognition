{
 "cells": [
  {
   "cell_type": "markdown",
   "metadata": {},
   "source": [
    "# How to Develop a Character-Based Neural Language Model in Keras\n",
    "\n",
    "* Tutorial website: https://machinelearningmastery.com/develop-character-based-neural-language-model-keras/\n",
    "* We will use an arbitrary length of 10 characters for this model.\n",
    "* There is not a lot of text, and 10 characters is a few words."
   ]
  },
  {
   "cell_type": "code",
   "execution_count": 39,
   "metadata": {},
   "outputs": [],
   "source": [
    "import numpy as np\n",
    "from pickle import dump\n",
    "from pickle import load\n",
    "from keras.models import load_model\n",
    "from keras.utils import to_categorical\n",
    "from keras.preprocessing.sequence import pad_sequences\n",
    "from keras.utils import to_categorical\n",
    "from keras.models import Sequential\n",
    "from keras.layers import Dense\n",
    "from keras.layers import LSTM"
   ]
  },
  {
   "cell_type": "markdown",
   "metadata": {},
   "source": [
    "## Load Text"
   ]
  },
  {
   "cell_type": "code",
   "execution_count": 1,
   "metadata": {},
   "outputs": [],
   "source": [
    "# load doc into memory\n",
    "def load_doc(filename):\n",
    "    # open the file as read only\n",
    "    file = open(filename, 'r')\n",
    "    # read all text\n",
    "    text = file.read()\n",
    "    # close the file\n",
    "    file.close()\n",
    "    return text"
   ]
  },
  {
   "cell_type": "code",
   "execution_count": 2,
   "metadata": {},
   "outputs": [
    {
     "name": "stdout",
     "output_type": "stream",
     "text": [
      "Sing a song of sixpence,\n",
      "A pocket full of rye.\n",
      "Four and twenty blackbirds,\n",
      "Baked in a pie.\n",
      "\n",
      "When the pie was opened\n",
      "The birds began to sing;\n",
      "Wasn't that a dainty dish,\n",
      "To set before the king.\n",
      "\n",
      "The king was in his counting house,\n",
      "Counting out his money;\n",
      "The queen was in the parlour,\n",
      "Eating bread and honey.\n",
      "\n",
      "The maid was in the garden,\n",
      "Hanging out the clothes,\n",
      "When down came a blackbird\n",
      "And pecked off her nose.\n"
     ]
    }
   ],
   "source": [
    "# load text\n",
    "raw_text = load_doc('data/rhyme.txt')\n",
    "print(raw_text)"
   ]
  },
  {
   "cell_type": "markdown",
   "metadata": {},
   "source": [
    "## Clean Text"
   ]
  },
  {
   "cell_type": "code",
   "execution_count": 3,
   "metadata": {},
   "outputs": [],
   "source": [
    "# clean\n",
    "# we will strip all of the new line characters \n",
    "# so that we have one long sequence of characters separated only by white space\n",
    "tokens = raw_text.split()\n",
    "raw_text = ' '.join(tokens)"
   ]
  },
  {
   "cell_type": "markdown",
   "metadata": {},
   "source": [
    "## Create Sequences"
   ]
  },
  {
   "cell_type": "code",
   "execution_count": 4,
   "metadata": {},
   "outputs": [
    {
     "name": "stdout",
     "output_type": "stream",
     "text": [
      "Total Sequences: 399\n"
     ]
    }
   ],
   "source": [
    "# organize into sequences of characters\n",
    "# Each input sequence will be 10 characters \n",
    "# with one output character, making each sequence 11 characters long.\n",
    "length = 10\n",
    "sequences = list()\n",
    "for i in range(length, len(raw_text)):\n",
    "    # select sequence of tokens\n",
    "    seq = raw_text[i-length:i+1]\n",
    "    # store\n",
    "    sequences.append(seq)\n",
    "print('Total Sequences: %d' % len(sequences))"
   ]
  },
  {
   "cell_type": "markdown",
   "metadata": {},
   "source": [
    "## Save Sequences"
   ]
  },
  {
   "cell_type": "code",
   "execution_count": 5,
   "metadata": {},
   "outputs": [],
   "source": [
    "# save tokens to file, one dialog per line\n",
    "def save_doc(lines, filename):\n",
    "    data = '\\n'.join(lines)\n",
    "    file = open(filename, 'w')\n",
    "    file.write(data)\n",
    "    file.close()"
   ]
  },
  {
   "cell_type": "code",
   "execution_count": 6,
   "metadata": {},
   "outputs": [],
   "source": [
    "# save sequences to file\n",
    "out_filename = 'data/char_sequences.txt'\n",
    "save_doc(sequences, out_filename)"
   ]
  },
  {
   "cell_type": "markdown",
   "metadata": {},
   "source": [
    "## Train Language Model - Load Data"
   ]
  },
  {
   "cell_type": "code",
   "execution_count": 27,
   "metadata": {},
   "outputs": [],
   "source": [
    "# load\n",
    "in_filename = 'data/char_sequences.txt'\n",
    "raw_text = load_doc(in_filename)\n",
    "lines = raw_text.split('\\n')"
   ]
  },
  {
   "cell_type": "markdown",
   "metadata": {},
   "source": [
    "## Encode Sequences"
   ]
  },
  {
   "cell_type": "code",
   "execution_count": 28,
   "metadata": {},
   "outputs": [],
   "source": [
    "# The sequences of characters must be encoded as integers.\n",
    "chars = sorted(list(set(raw_text)))\n",
    "mapping = dict((c, i) for i, c in enumerate(chars))"
   ]
  },
  {
   "cell_type": "code",
   "execution_count": 29,
   "metadata": {},
   "outputs": [],
   "source": [
    "sequences = list()\n",
    "for line in lines:\n",
    "    # integer encode line\n",
    "    encoded_seq = [mapping[char] for char in line]\n",
    "    # store\n",
    "    sequences.append(encoded_seq)"
   ]
  },
  {
   "cell_type": "code",
   "execution_count": 30,
   "metadata": {},
   "outputs": [
    {
     "name": "stdout",
     "output_type": "stream",
     "text": [
      "Vocabulary Size: 38\n"
     ]
    }
   ],
   "source": [
    "# vocabulary size = 38 uniques characters\n",
    "vocab_size = len(mapping)\n",
    "print('Vocabulary Size: %d' % vocab_size)"
   ]
  },
  {
   "cell_type": "markdown",
   "metadata": {},
   "source": [
    "## Split Inputs and Output"
   ]
  },
  {
   "cell_type": "code",
   "execution_count": 31,
   "metadata": {},
   "outputs": [],
   "source": [
    "# separate the columns into input and output sequences of characters.\n",
    "sequences = np.array(sequences)\n",
    "X, y = sequences[:,:-1], sequences[:,-1]"
   ]
  },
  {
   "cell_type": "code",
   "execution_count": 32,
   "metadata": {},
   "outputs": [],
   "source": [
    "# we need to one hot encode each character. \n",
    "# That is, each character becomes a vector as long as \n",
    "# the vocabulary (38 elements) with a 1 marked for the specific character\n",
    "\n",
    "sequences = [to_categorical(x, num_classes=vocab_size) for x in X]\n",
    "X = np.array(sequences)\n",
    "y = to_categorical(y, num_classes=vocab_size)"
   ]
  },
  {
   "cell_type": "code",
   "execution_count": 33,
   "metadata": {},
   "outputs": [
    {
     "name": "stdout",
     "output_type": "stream",
     "text": [
      "(399, 10, 38)\n",
      "(399, 38)\n"
     ]
    }
   ],
   "source": [
    "print(X.shape)\n",
    "print(y.shape)"
   ]
  },
  {
   "cell_type": "markdown",
   "metadata": {},
   "source": [
    "## Fit Model\n",
    "\n",
    "The model has a single LSTM hidden layer with 75 memory cells, chosen with a little trial and error.\n",
    "The model has a fully connected output layer that outputs one vector with a probability distribution across all characters in the vocabulary. A softmax activation function is used on the output layer to ensure the output has the properties of a probability distribution."
   ]
  },
  {
   "cell_type": "code",
   "execution_count": 34,
   "metadata": {},
   "outputs": [
    {
     "name": "stdout",
     "output_type": "stream",
     "text": [
      "_________________________________________________________________\n",
      "Layer (type)                 Output Shape              Param #   \n",
      "=================================================================\n",
      "lstm_2 (LSTM)                (None, 75)                34200     \n",
      "_________________________________________________________________\n",
      "dense_2 (Dense)              (None, 38)                2888      \n",
      "=================================================================\n",
      "Total params: 37,088\n",
      "Trainable params: 37,088\n",
      "Non-trainable params: 0\n",
      "_________________________________________________________________\n",
      "None\n"
     ]
    }
   ],
   "source": [
    "# define model\n",
    "model = Sequential()\n",
    "model.add(LSTM(75, input_shape=(X.shape[1], X.shape[2])))\n",
    "model.add(Dense(vocab_size, activation='softmax'))\n",
    "print(model.summary())"
   ]
  },
  {
   "cell_type": "code",
   "execution_count": 35,
   "metadata": {},
   "outputs": [
    {
     "name": "stdout",
     "output_type": "stream",
     "text": [
      "Epoch 1/100\n",
      " - 2s - loss: 3.6204 - acc: 0.0877\n",
      "Epoch 2/100\n",
      " - 0s - loss: 3.5290 - acc: 0.1905\n",
      "Epoch 3/100\n",
      " - 0s - loss: 3.2407 - acc: 0.1905\n",
      "Epoch 4/100\n",
      " - 0s - loss: 3.0754 - acc: 0.1905\n",
      "Epoch 5/100\n",
      " - 0s - loss: 3.0108 - acc: 0.1905\n",
      "Epoch 6/100\n",
      " - 0s - loss: 2.9843 - acc: 0.1905\n",
      "Epoch 7/100\n",
      " - 0s - loss: 2.9653 - acc: 0.1905\n",
      "Epoch 8/100\n",
      " - 0s - loss: 2.9482 - acc: 0.1905\n",
      "Epoch 9/100\n",
      " - 0s - loss: 2.9237 - acc: 0.1905\n",
      "Epoch 10/100\n",
      " - 0s - loss: 2.9027 - acc: 0.1905\n",
      "Epoch 11/100\n",
      " - 0s - loss: 2.8897 - acc: 0.1905\n",
      "Epoch 12/100\n",
      " - 0s - loss: 2.8442 - acc: 0.1930\n",
      "Epoch 13/100\n",
      " - 0s - loss: 2.8124 - acc: 0.2030\n",
      "Epoch 14/100\n",
      " - 0s - loss: 2.7739 - acc: 0.2030\n",
      "Epoch 15/100\n",
      " - 0s - loss: 2.7452 - acc: 0.2657\n",
      "Epoch 16/100\n",
      " - 0s - loss: 2.7333 - acc: 0.2130\n",
      "Epoch 17/100\n",
      " - 0s - loss: 2.6580 - acc: 0.2807\n",
      "Epoch 18/100\n",
      " - 0s - loss: 2.6057 - acc: 0.2481\n",
      "Epoch 19/100\n",
      " - 0s - loss: 2.5606 - acc: 0.2882\n",
      "Epoch 20/100\n",
      " - 0s - loss: 2.4961 - acc: 0.2832\n",
      "Epoch 21/100\n",
      " - 0s - loss: 2.4541 - acc: 0.3183\n",
      "Epoch 22/100\n",
      " - 0s - loss: 2.4176 - acc: 0.3183\n",
      "Epoch 23/100\n",
      " - 0s - loss: 2.3624 - acc: 0.3208\n",
      "Epoch 24/100\n",
      " - 0s - loss: 2.3257 - acc: 0.3559\n",
      "Epoch 25/100\n",
      " - 0s - loss: 2.2583 - acc: 0.3659\n",
      "Epoch 26/100\n",
      " - 0s - loss: 2.2187 - acc: 0.3684\n",
      "Epoch 27/100\n",
      " - 0s - loss: 2.1810 - acc: 0.3759\n",
      "Epoch 28/100\n",
      " - 0s - loss: 2.1177 - acc: 0.3784\n",
      "Epoch 29/100\n",
      " - 0s - loss: 2.0779 - acc: 0.4035\n",
      "Epoch 30/100\n",
      " - 0s - loss: 2.0437 - acc: 0.4160\n",
      "Epoch 31/100\n",
      " - 0s - loss: 1.9967 - acc: 0.4010\n",
      "Epoch 32/100\n",
      " - 0s - loss: 1.9497 - acc: 0.4211\n",
      "Epoch 33/100\n",
      " - 0s - loss: 1.8902 - acc: 0.4586\n",
      "Epoch 34/100\n",
      " - 0s - loss: 1.8642 - acc: 0.4486\n",
      "Epoch 35/100\n",
      " - 0s - loss: 1.8263 - acc: 0.4787\n",
      "Epoch 36/100\n",
      " - 0s - loss: 1.7832 - acc: 0.4812\n",
      "Epoch 37/100\n",
      " - 0s - loss: 1.7340 - acc: 0.5213\n",
      "Epoch 38/100\n",
      " - 0s - loss: 1.7097 - acc: 0.5213\n",
      "Epoch 39/100\n",
      " - 0s - loss: 1.6723 - acc: 0.5163\n",
      "Epoch 40/100\n",
      " - 0s - loss: 1.6467 - acc: 0.5288\n",
      "Epoch 41/100\n",
      " - 0s - loss: 1.5880 - acc: 0.5714\n",
      "Epoch 42/100\n",
      " - 0s - loss: 1.5376 - acc: 0.5689\n",
      "Epoch 43/100\n",
      " - 0s - loss: 1.5077 - acc: 0.5689\n",
      "Epoch 44/100\n",
      " - 0s - loss: 1.4666 - acc: 0.6140\n",
      "Epoch 45/100\n",
      " - 0s - loss: 1.4206 - acc: 0.6090\n",
      "Epoch 46/100\n",
      " - 0s - loss: 1.3990 - acc: 0.6391\n",
      "Epoch 47/100\n",
      " - 0s - loss: 1.3663 - acc: 0.6541\n",
      "Epoch 48/100\n",
      " - 0s - loss: 1.3189 - acc: 0.6541\n",
      "Epoch 49/100\n",
      " - 0s - loss: 1.2666 - acc: 0.6767\n",
      "Epoch 50/100\n",
      " - 0s - loss: 1.2472 - acc: 0.7018\n",
      "Epoch 51/100\n",
      " - 0s - loss: 1.1919 - acc: 0.7118\n",
      "Epoch 52/100\n",
      " - 0s - loss: 1.1721 - acc: 0.7368\n",
      "Epoch 53/100\n",
      " - 0s - loss: 1.1338 - acc: 0.7243\n",
      "Epoch 54/100\n",
      " - 0s - loss: 1.1026 - acc: 0.7368\n",
      "Epoch 55/100\n",
      " - 0s - loss: 1.0884 - acc: 0.7594\n",
      "Epoch 56/100\n",
      " - 0s - loss: 1.0303 - acc: 0.7644\n",
      "Epoch 57/100\n",
      " - 0s - loss: 1.0211 - acc: 0.7594\n",
      "Epoch 58/100\n",
      " - 0s - loss: 0.9745 - acc: 0.8095\n",
      "Epoch 59/100\n",
      " - 0s - loss: 0.9645 - acc: 0.8170\n",
      "Epoch 60/100\n",
      " - 0s - loss: 0.9309 - acc: 0.8070\n",
      "Epoch 61/100\n",
      " - 0s - loss: 0.8985 - acc: 0.8170\n",
      "Epoch 62/100\n",
      " - 0s - loss: 0.8788 - acc: 0.8346\n",
      "Epoch 63/100\n",
      " - 0s - loss: 0.8437 - acc: 0.8396\n",
      "Epoch 64/100\n",
      " - 0s - loss: 0.8027 - acc: 0.8622\n",
      "Epoch 65/100\n",
      " - 0s - loss: 0.7770 - acc: 0.8596\n",
      "Epoch 66/100\n",
      " - 0s - loss: 0.7399 - acc: 0.8822\n",
      "Epoch 67/100\n",
      " - 0s - loss: 0.7168 - acc: 0.8847\n",
      "Epoch 68/100\n",
      " - 0s - loss: 0.7021 - acc: 0.9023\n",
      "Epoch 69/100\n",
      " - 0s - loss: 0.6684 - acc: 0.9123\n",
      "Epoch 70/100\n",
      " - 0s - loss: 0.6588 - acc: 0.9073\n",
      "Epoch 71/100\n",
      " - 0s - loss: 0.6364 - acc: 0.9073\n",
      "Epoch 72/100\n",
      " - 0s - loss: 0.6025 - acc: 0.9198\n",
      "Epoch 73/100\n",
      " - 0s - loss: 0.5744 - acc: 0.9298\n",
      "Epoch 74/100\n",
      " - 0s - loss: 0.5637 - acc: 0.9298\n",
      "Epoch 75/100\n",
      " - 0s - loss: 0.5462 - acc: 0.9449\n",
      "Epoch 76/100\n",
      " - 0s - loss: 0.5388 - acc: 0.9499\n",
      "Epoch 77/100\n",
      " - 0s - loss: 0.4987 - acc: 0.9524\n",
      "Epoch 78/100\n",
      " - 0s - loss: 0.4781 - acc: 0.9649\n",
      "Epoch 79/100\n",
      " - 0s - loss: 0.4588 - acc: 0.9599\n",
      "Epoch 80/100\n",
      " - 0s - loss: 0.4406 - acc: 0.9699\n",
      "Epoch 81/100\n",
      " - 0s - loss: 0.4198 - acc: 0.9724\n",
      "Epoch 82/100\n",
      " - 0s - loss: 0.4068 - acc: 0.9774\n",
      "Epoch 83/100\n",
      " - 0s - loss: 0.3974 - acc: 0.9724\n",
      "Epoch 84/100\n",
      " - 0s - loss: 0.3867 - acc: 0.9850\n",
      "Epoch 85/100\n",
      " - 0s - loss: 0.3612 - acc: 0.9799\n",
      "Epoch 86/100\n",
      " - 0s - loss: 0.3478 - acc: 0.9825\n",
      "Epoch 87/100\n",
      " - 0s - loss: 0.3308 - acc: 0.9875\n",
      "Epoch 88/100\n",
      " - 0s - loss: 0.3209 - acc: 0.9875\n",
      "Epoch 89/100\n",
      " - 0s - loss: 0.3109 - acc: 0.9925\n",
      "Epoch 90/100\n",
      " - 0s - loss: 0.3008 - acc: 0.9875\n",
      "Epoch 91/100\n",
      " - 0s - loss: 0.2864 - acc: 0.9900\n",
      "Epoch 92/100\n",
      " - 0s - loss: 0.2754 - acc: 0.9900\n",
      "Epoch 93/100\n",
      " - 0s - loss: 0.2668 - acc: 0.9875\n",
      "Epoch 94/100\n",
      " - 0s - loss: 0.2511 - acc: 0.9925\n",
      "Epoch 95/100\n",
      " - 0s - loss: 0.2418 - acc: 0.9950\n",
      "Epoch 96/100\n",
      " - 0s - loss: 0.2370 - acc: 0.9950\n",
      "Epoch 97/100\n",
      " - 0s - loss: 0.2249 - acc: 0.9925\n",
      "Epoch 98/100\n",
      " - 0s - loss: 0.2145 - acc: 0.9925\n",
      "Epoch 99/100\n",
      " - 0s - loss: 0.2074 - acc: 0.9925\n",
      "Epoch 100/100\n",
      " - 0s - loss: 0.2009 - acc: 0.9925\n"
     ]
    },
    {
     "data": {
      "text/plain": [
       "<keras.callbacks.History at 0x7f7f7e0d0be0>"
      ]
     },
     "execution_count": 35,
     "metadata": {},
     "output_type": "execute_result"
    }
   ],
   "source": [
    "# compile model\n",
    "model.compile(loss='categorical_crossentropy', optimizer='adam', metrics=['accuracy'])\n",
    "# fit model\n",
    "model.fit(X, y, epochs=100, verbose=2)"
   ]
  },
  {
   "cell_type": "markdown",
   "metadata": {},
   "source": [
    "You will see that the model learns the problem well, perhaps too well for generating surprising sequences of characters."
   ]
  },
  {
   "cell_type": "markdown",
   "metadata": {},
   "source": [
    "## Save Model"
   ]
  },
  {
   "cell_type": "code",
   "execution_count": 48,
   "metadata": {},
   "outputs": [],
   "source": [
    "# save the model to file\n",
    "model.save('data/model.h5')"
   ]
  },
  {
   "cell_type": "code",
   "execution_count": 49,
   "metadata": {},
   "outputs": [],
   "source": [
    "# save the mapping\n",
    "dump(mapping, open('data/mapping.pkl', 'wb'))"
   ]
  },
  {
   "cell_type": "markdown",
   "metadata": {},
   "source": [
    "## Generate Text - Load Model"
   ]
  },
  {
   "cell_type": "code",
   "execution_count": 50,
   "metadata": {},
   "outputs": [],
   "source": [
    "# load the model\n",
    "model = load_model('data/model.h5')"
   ]
  },
  {
   "cell_type": "code",
   "execution_count": 51,
   "metadata": {},
   "outputs": [],
   "source": [
    "# load the mapping\n",
    "mapping = load(open('data/mapping.pkl', 'rb'))"
   ]
  },
  {
   "cell_type": "markdown",
   "metadata": {},
   "source": [
    "## Generate Characters"
   ]
  },
  {
   "cell_type": "code",
   "execution_count": 46,
   "metadata": {},
   "outputs": [],
   "source": [
    "# generate a sequence of characters with a language model\n",
    "def generate_seq(model, mapping, seq_length, seed_text, n_chars):\n",
    "    in_text = seed_text\n",
    "    # generate a fixed number of characters\n",
    "    for _ in range(n_chars):\n",
    "        # encode the characters as integers\n",
    "        encoded = [mapping[char] for char in in_text]\n",
    "        # truncate sequences to a fixed length\n",
    "        encoded = pad_sequences([encoded], maxlen=seq_length, truncating='pre')\n",
    "        # one hot encode\n",
    "        encoded = to_categorical(encoded, num_classes=len(mapping))\n",
    "        #encoded = encoded.reshape(1, encoded.shape[0], encoded.shape[1]) throws error later on\n",
    "        # predict character\n",
    "        yhat = model.predict_classes(encoded, verbose=0)\n",
    "        # reverse map integer to character\n",
    "        out_char = ''\n",
    "        for char, index in mapping.items():\n",
    "            if index == yhat:\n",
    "                out_char = char\n",
    "                break\n",
    "        # append to input\n",
    "        in_text += char\n",
    "    return in_text"
   ]
  },
  {
   "cell_type": "code",
   "execution_count": 47,
   "metadata": {},
   "outputs": [
    {
     "name": "stdout",
     "output_type": "stream",
     "text": [
      "Sing a song of sixpence, A poc\n",
      "king was in his counting house\n",
      "hello worl, Whe kin  ais. Whee\n"
     ]
    }
   ],
   "source": [
    "# test start of rhyme\n",
    "print(generate_seq(model, mapping, 10, 'Sing a son', 20))\n",
    "# test mid-line\n",
    "print(generate_seq(model, mapping, 10, 'king was i', 20))\n",
    "# test not in original\n",
    "print(generate_seq(model, mapping, 10, 'hello worl', 20))"
   ]
  }
 ],
 "metadata": {
  "kernelspec": {
   "display_name": "Python 3",
   "language": "python",
   "name": "python3"
  },
  "language_info": {
   "codemirror_mode": {
    "name": "ipython",
    "version": 3
   },
   "file_extension": ".py",
   "mimetype": "text/x-python",
   "name": "python",
   "nbconvert_exporter": "python",
   "pygments_lexer": "ipython3",
   "version": "3.6.4"
  }
 },
 "nbformat": 4,
 "nbformat_minor": 2
}
