{
 "cells": [
  {
   "cell_type": "markdown",
   "metadata": {},
   "source": [
    "# Data Sets and Data Sources for Automatic Speech Recognition\n",
    "\n",
    "* Most of the data sets used for Automatic Speech Recognition Applications can be found on the website of the Linguistic Data Consortium (LDC): https://www.ldc.upenn.edu/\n",
    "* You might download some corpora for free if you register as a member of an organization which is already enrolled at the LDC. I registered as a member of the Radboud University and I'm still waiting for the approval to download the corpora\n",
    "* It is also possible to obtain corpora through AcademicTorrents if the LDC does not accept your registration\n",
    "\n",
    "## Timit\n",
    "\n",
    "* Official website: https://catalog.ldc.upenn.edu/ldc93s1\n",
    "* https://github.com/philipperemy/timit\n",
    "* This dataset is 440.21MB when you download it as a compressed zip archive and 602 MB when it is unpacked\n",
    "* TIMIT contains a total of 6300 sentences, 10 sentences spoken by each of 630 speakers from 8 major dialect regions of the United States.\n",
    "\n",
    "## Fisher Corpus\n",
    "\n",
    "* Fisher English Training Speech Part 1 Speech: https://catalog.ldc.upenn.edu/LDC2004S13\n",
    "* Fisher English Training Speech Part 1 Transcripts: https://catalog.ldc.upenn.edu/LDC2004T19\n",
    "\n",
    "## Switchboard-1 Release 2\n",
    "\n",
    "* Official website: https://catalog.ldc.upenn.edu/LDC97S62\n",
    "* The Switchboard-1 Telephone Speech Corpus (LDC97S62) consists of approximately 260 hours of speech and was originally collected by Texas Instruments in 1990-1, under DARPA sponsorship.\n",
    "* Switchboard is a collection of about 2,400 two-sided telephone conversations among 543 speakers (302 male, 241 female) from all areas of the United States.\n",
    "\n",
    "## Corpus Gesproken Nederlands (CGN)\n",
    "\n",
    "\n",
    "* In order to download the corpus you have to register at the \"Instituut voor de Nederlandse Taal\": https://ivdnt.org\n",
    "* Version 2.0.3 of the corpus is 94.17 GB as a compressed tgz archive and 120 GB unpacked\n",
    "* On an Intel Core i7-3770 @ 3.4GHz, it takes approx. 1 hour to unpack the archive\n",
    "* The corpus includes 900 hours of speech and is divided into Speech data (wav) and annotations (xml and txt)\n",
    "* This corpus is free of charge if used for research purposes. The commercial usage is NOT free of charge.\n",
    "* Official website: https://ivdnt.org/downloads/tstc-corpus-gesproken-nederlands\n",
    "\n",
    "## The Switchboard Dialog Act Corpus\n",
    "\n",
    "* Github repository: https://github.com/cgpotts/swda\n",
    "* The Switchboard Dialog Act Corpus (SwDA) extends the Switchboard-1 Telephone Speech Corpus, Release 2 with turn/utterance-level dialog-act tags. The tags summarize syntactic, semantic, and pragmatic information about the associated turn. The SwDA project was undertaken at UC Boulder in the late 1990s.\n",
    "* Detailed information about this corpus: http://compprag.christopherpotts.net/swda.html\n",
    "\n",
    "## Voxforge\n",
    "\n",
    "* Official website: http://www.voxforge.org/home\n",
    "* VoxForge was set up to collect transcribed speech for use with Free and  Open Source Speech Recognition Engines (on Linux, Windows and Mac). \n",
    "* Voxforge will make all submitted audio files available under the GPL license, and then 'compile' them into acoustic models for use with Open Source speech recognition engines such as CMU Sphinx, ISIP, Julius (github) and HTK (note: HTK has distribution restrictions)."
   ]
  }
 ],
 "metadata": {
  "anaconda-cloud": {},
  "kernelspec": {
   "display_name": "Python 3",
   "language": "python",
   "name": "python3"
  },
  "language_info": {
   "codemirror_mode": {
    "name": "ipython",
    "version": 3
   },
   "file_extension": ".py",
   "mimetype": "text/x-python",
   "name": "python",
   "nbconvert_exporter": "python",
   "pygments_lexer": "ipython3",
   "version": "3.6.4"
  }
 },
 "nbformat": 4,
 "nbformat_minor": 2
}
