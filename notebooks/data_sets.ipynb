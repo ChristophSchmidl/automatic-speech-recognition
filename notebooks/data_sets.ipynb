{
 "cells": [
  {
   "cell_type": "markdown",
   "metadata": {},
   "source": [
    "# Data Sets for Automatic Speech Recognition\n",
    "\n",
    "## Timit\n",
    "\n",
    "* Official website: https://catalog.ldc.upenn.edu/ldc93s1\n",
    "* https://github.com/philipperemy/timit\n",
    "\n",
    "## Fisher Corpus\n",
    "\n",
    "* Fisher English Training Speech Part 1 Speech: https://catalog.ldc.upenn.edu/LDC2004S13\n",
    "* Fisher English Training Speech Part 1 Transcripts: https://catalog.ldc.upenn.edu/LDC2004T19"
   ]
  }
 ],
 "metadata": {
  "kernelspec": {
   "display_name": "Python 3",
   "language": "python",
   "name": "python3"
  },
  "language_info": {
   "codemirror_mode": {
    "name": "ipython",
    "version": 3
   },
   "file_extension": ".py",
   "mimetype": "text/x-python",
   "name": "python",
   "nbconvert_exporter": "python",
   "pygments_lexer": "ipython3",
   "version": "3.6.4"
  }
 },
 "nbformat": 4,
 "nbformat_minor": 2
}
