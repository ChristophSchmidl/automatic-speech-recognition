{
 "cells": [
  {
   "cell_type": "markdown",
   "metadata": {},
   "source": [
    "# Viterbi Algorithm\n",
    "\n",
    "Useful resources:\n",
    "\n",
    "* https://en.wikipedia.org/wiki/Viterbi_algorithm\n",
    "* http://blog.ivank.net/viterbi-algorithm-clarified.html\n",
    "* http://www.cs.toronto.edu/~sengels/tutorials/viterbi.html\n",
    "\n",
    "This notebook is using the example from the above mentioned wikipedia article. The viterbi algorithm is used in the decoding step when used in conjunction with Hidden Markov Models (HMMs)."
   ]
  },
  {
   "cell_type": "markdown",
   "metadata": {},
   "source": [
    "## Doctor example\n",
    "\n",
    "Consider a village where all villagers are either **healthy** or have a **fever** and only the village doctor can determine whether each has a fever. The doctor diagnoses fever by asking patients how they feel. The villagers may only answer that they feel **normal, dizzy, or cold**.\n",
    "\n",
    "The doctor believes that the health condition of his patients operate as a discrete Markov chain. There are two states, **\"Healthy\" and \"Fever\"**, but the doctor cannot observe them **directly**; they are **hidden** from him. On each day, there is a certain chance that the patient will tell the doctor he/she is **\"normal\", \"cold\", or \"dizzy\"**, depending on their health condition.\n",
    "\n",
    "The observations (normal, cold, dizzy) along with a hidden state (healthy, fever) form a hidden Markov model (HMM)."
   ]
  },
  {
   "cell_type": "code",
   "execution_count": null,
   "metadata": {
    "collapsed": true
   },
   "outputs": [],
   "source": [
    "# *** Observations/Emissions ***\n",
    "#\n",
    "# What you can actually measure/see/observe\n",
    "obs = ('normal', 'cold', 'dizzy')\n",
    "\n",
    "\n",
    "# *** Hidden states ***\n",
    "#\n",
    "# States which you cannot measure/see/observe\n",
    "# and cause the observations/emissions.\n",
    "# Same concept as latent variables?\n",
    "states = ('Healthy', 'Fever')\n",
    "\n",
    "# ** Start probability ***\n",
    "#\n",
    "# start_probability represents the doctor's belief about \n",
    "# which state the HMM is in when the patient first visits \n",
    "# (all he knows is that the patient tends to be healthy). \n",
    "# The particular probability distribution used here is not \n",
    "# the equilibrium one, which is (given the transition \n",
    "# probabilities) approximately {'Healthy': 0.57, 'Fever': 0.43}\n",
    "start_p = {'Healthy': 0.6, 'Fever': 0.4}\n",
    "\n",
    "# *** Transition probability***\n",
    "#\n",
    "#\n",
    "#\n",
    "trans_p = {\n",
    "   'Healthy' : {'Healthy': 0.7, 'Fever': 0.3},\n",
    "   'Fever' : {'Healthy': 0.4, 'Fever': 0.6}\n",
    "   }\n",
    "\n",
    "# *** Emission probability***\n",
    "# \n",
    "#\n",
    "#\n",
    "emit_p = {\n",
    "   'Healthy' : {'normal': 0.5, 'cold': 0.4, 'dizzy': 0.1},\n",
    "   'Fever' : {'normal': 0.1, 'cold': 0.3, 'dizzy': 0.6}\n",
    "   }"
   ]
  },
  {
   "cell_type": "code",
   "execution_count": null,
   "metadata": {
    "collapsed": true
   },
   "outputs": [],
   "source": [
    "def viterbi(obs, states, start_p, trans_p, emit_p):\n",
    "    V = [{}]\n",
    "    for st in states:\n",
    "        V[0][st] = {\"prob\": start_p[st] * emit_p[st][obs[0]], \"prev\": None}\n",
    "    # Run Viterbi when t > 0\n",
    "    for t in range(1, len(obs)):\n",
    "        V.append({})\n",
    "        for st in states:\n",
    "            max_tr_prob = max(V[t-1][prev_st][\"prob\"]*trans_p[prev_st][st] for prev_st in states)\n",
    "            for prev_st in states:\n",
    "                if V[t-1][prev_st][\"prob\"] * trans_p[prev_st][st] == max_tr_prob:\n",
    "                    max_prob = max_tr_prob * emit_p[st][obs[t]]\n",
    "                    V[t][st] = {\"prob\": max_prob, \"prev\": prev_st}\n",
    "                    break\n",
    "    for line in dptable(V):\n",
    "        print line\n",
    "    opt = []\n",
    "    # The highest probability\n",
    "    max_prob = max(value[\"prob\"] for value in V[-1].values())\n",
    "    previous = None\n",
    "    # Get most probable state and its backtrack\n",
    "    for st, data in V[-1].items():\n",
    "        if data[\"prob\"] == max_prob:\n",
    "            opt.append(st)\n",
    "            previous = st\n",
    "            break\n",
    "    # Follow the backtrack till the first observation\n",
    "    for t in range(len(V) - 2, -1, -1):\n",
    "        opt.insert(0, V[t + 1][previous][\"prev\"])\n",
    "        previous = V[t + 1][previous][\"prev\"]\n",
    "\n",
    "    print 'The steps of states are ' + ' '.join(opt) + ' with highest probability of %s' % max_prob\n",
    "\n",
    "def dptable(V):\n",
    "    # Print a table of steps from dictionary\n",
    "    yield \" \".join((\"%12d\" % i) for i in range(len(V)))\n",
    "    for state in V[0]:\n",
    "        yield \"%.7s: \" % state + \" \".join(\"%.7s\" % (\"%f\" % v[state][\"prob\"]) for v in V)"
   ]
  }
 ],
 "metadata": {
  "kernelspec": {
   "display_name": "py35",
   "language": "python",
   "name": "py35"
  },
  "language_info": {
   "codemirror_mode": {
    "name": "ipython",
    "version": 3
   },
   "file_extension": ".py",
   "mimetype": "text/x-python",
   "name": "python",
   "nbconvert_exporter": "python",
   "pygments_lexer": "ipython3",
   "version": "3.5.4"
  }
 },
 "nbformat": 4,
 "nbformat_minor": 2
}
